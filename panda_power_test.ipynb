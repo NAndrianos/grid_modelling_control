{
 "cells": [
  {
   "cell_type": "code",
   "execution_count": 34,
   "metadata": {},
   "outputs": [],
   "source": [
    "import pandapower as pp\n",
    "import pandapower.networks as nw\n",
    "import pandapower.plotting as plot\n",
    "import numpy as np\n",
    "import matplotlib.pyplot as plt\n",
    "import pandas as pd"
   ]
  },
  {
   "cell_type": "raw",
   "metadata": {},
   "source": [
    "TODO:\n",
    "- Implement the simple 3 node system in panda power and compare results\n",
    "- Try streamlining the by-hand model\n",
    "    - That is, don't hard code Jacobian or,\n",
    "    - Sum of power at nodes or,\n",
    "    - Y-bus\n",
    "- Think about how to implement batteries"
   ]
  },
  {
   "cell_type": "markdown",
   "metadata": {},
   "source": [
    "# Simple 3-node system \"by hand\""
   ]
  },
  {
   "cell_type": "markdown",
   "metadata": {},
   "source": [
    "3 Nodes/Busses:\n",
    "- Slack bus\n",
    "- PV bus\n",
    "- PQ bus\n",
    "- All connected together (delta formation)"
   ]
  },
  {
   "cell_type": "markdown",
   "metadata": {},
   "source": [
    "## Step 1: Initialize the Y-bus for the system\n",
    "\n",
    "Note: \n",
    "- Diagnol elements (Y_ii) are the sum of the admittance connected to bus i\n",
    "- Off diagonal elements (Y_ij) are equal to the negative of the admittance connecting the two busses Y_ij = Y_ji = -Y_ij"
   ]
  },
  {
   "cell_type": "code",
   "execution_count": 3,
   "metadata": {},
   "outputs": [],
   "source": [
    "num_buses = 3\n",
    "admittances = {\n",
    "    (0, 1): 5 - 1j * 15,   # admittance between bus 0 and bus 1 (Slack <-> PQ)\n",
    "    (1, 2): 15 - 1j * 50,  # admittance between bus 1 and bus 2 (PQ <-> PV)\n",
    "    (0, 2): 10 - 1j * 40   # admittance between bus 0 and bus 2 (Slack <-> PV)\n",
    "}"
   ]
  },
  {
   "cell_type": "code",
   "execution_count": 4,
   "metadata": {},
   "outputs": [],
   "source": [
    "# Initialize the Y-bus matrix with zeros\n",
    "Y_bus = np.zeros((num_buses, num_buses), dtype=complex)"
   ]
  },
  {
   "cell_type": "code",
   "execution_count": 5,
   "metadata": {},
   "outputs": [],
   "source": [
    "# Populate the Y-bus matrix\n",
    "for (i, j), y in admittances.items():\n",
    "    Y_bus[i, j] = -y\n",
    "    Y_bus[j, i] = -y\n",
    "    Y_bus[i, i] += y\n",
    "    Y_bus[j, j] += y"
   ]
  },
  {
   "cell_type": "code",
   "execution_count": 6,
   "metadata": {},
   "outputs": [
    {
     "name": "stdout",
     "output_type": "stream",
     "text": [
      "Imaginary Y-bus matrix (rectangular form):\n",
      "[[ 15.-55.j  -5.+15.j -10.+40.j]\n",
      " [ -5.+15.j  20.-65.j -15.+50.j]\n",
      " [-10.+40.j -15.+50.j  25.-90.j]]\n"
     ]
    }
   ],
   "source": [
    "# Print the Y-bus matrix\n",
    "print(\"Imaginary Y-bus matrix (rectangular form):\")\n",
    "print(Y_bus)  # Only the imaginary part"
   ]
  },
  {
   "cell_type": "code",
   "execution_count": 7,
   "metadata": {},
   "outputs": [],
   "source": [
    "# Compute the magnitude and phase angle of the Y-bus matrix elements\n",
    "Y_bus_magnitude = np.abs(Y_bus)\n",
    "Y_bus_angle = np.angle(Y_bus)"
   ]
  },
  {
   "cell_type": "code",
   "execution_count": 8,
   "metadata": {},
   "outputs": [],
   "source": [
    "# Convert Y-bus to polar form\n",
    "Y_bus_polar = np.zeros((num_buses, num_buses), dtype=object)\n",
    "\n",
    "# Populate Y_bus_polar with magnitude and angle tuples\n",
    "for i in range(num_buses):\n",
    "    for j in range(num_buses):\n",
    "        Y_bus_polar[i, j] = (Y_bus_magnitude[i, j], np.degrees(Y_bus_angle[i, j]))"
   ]
  },
  {
   "cell_type": "code",
   "execution_count": 9,
   "metadata": {},
   "outputs": [
    {
     "name": "stdout",
     "output_type": "stream",
     "text": [
      "Y-bus matrix in polar form:\n",
      "Y_bus[0,0] = 57.0088 ∠ -74.7449°\n",
      "Y_bus[0,1] = 15.8114 ∠ 108.4349°\n",
      "Y_bus[0,2] = 41.2311 ∠ 104.0362°\n",
      "Y_bus[1,0] = 15.8114 ∠ 108.4349°\n",
      "Y_bus[1,1] = 68.0074 ∠ -72.8973°\n",
      "Y_bus[1,2] = 52.2015 ∠ 106.6992°\n",
      "Y_bus[2,0] = 41.2311 ∠ 104.0362°\n",
      "Y_bus[2,1] = 52.2015 ∠ 106.6992°\n",
      "Y_bus[2,2] = 93.4077 ∠ -74.4759°\n"
     ]
    }
   ],
   "source": [
    "# Print the Y-bus matrix in polar form\n",
    "print(\"Y-bus matrix in polar form:\")\n",
    "for i in range(num_buses):\n",
    "    for j in range(num_buses):\n",
    "        magnitude, angle = Y_bus_polar[i, j]\n",
    "        print(f\"Y_bus[{i},{j}] = {magnitude:.4f} ∠ {angle:.4f}°\")"
   ]
  },
  {
   "cell_type": "markdown",
   "metadata": {},
   "source": [
    "## Step 2: Define known values at the busses\n",
    "\n",
    "By doing so we understand what is unknown and thus must be calculated in our power flow study"
   ]
  },
  {
   "cell_type": "code",
   "execution_count": 10,
   "metadata": {},
   "outputs": [],
   "source": [
    "# Node 0: slack (reference) bus\n",
    "d_0 = 0 # [°], voltage angle\n",
    "v_0 = 1.02 # [p.u.], voltage magnitude\n",
    "\n",
    "# Node 1: PQ (load) bus (define load as negative)\n",
    "s_1 = -2 - 1j * 0.5 # [p.u.] dividing real (MW) and imag (MVAR) by the base 100 MVA\n",
    "\n",
    "# Node 2: PV (gen) bus (define gen as positive)\n",
    "p_2 = 1.5 # [p.u.] dividing by 100 MW\n",
    "v_2 = 1.03 # [p.u.], voltage magnitude"
   ]
  },
  {
   "cell_type": "raw",
   "metadata": {},
   "source": [
    "Now we can identify the known/unknown voltage variables:\n",
    "- v_1 & d_1\n",
    "- d_2"
   ]
  },
  {
   "cell_type": "markdown",
   "metadata": {},
   "source": [
    "## Step 3: Use Newton's method to iteratively solve"
   ]
  },
  {
   "cell_type": "code",
   "execution_count": 11,
   "metadata": {},
   "outputs": [],
   "source": [
    "# Maximum iterations and tolerance\n",
    "max_iterations = 25\n",
    "tolerance = 1e-6"
   ]
  },
  {
   "cell_type": "code",
   "execution_count": 12,
   "metadata": {},
   "outputs": [],
   "source": [
    "def net_P1(Y_bus_polar, V, delta):\n",
    "    P1 = (V[1] * V[0] * Y_bus_polar[1, 0][0] * np.cos(np.deg2rad(Y_bus_polar[1, 0][1] - delta[1] + delta[0])) +\n",
    "          V[1]**2 *  Y_bus_polar[1, 1][0] * np.cos(np.deg2rad(Y_bus_polar[1, 1][1])) +\n",
    "          V[1] * V[2] * Y_bus_polar[1, 2][0] * np.cos(np.deg2rad(Y_bus_polar[1, 2][1] - delta[1] + delta[2])))\n",
    "    return P1"
   ]
  },
  {
   "cell_type": "code",
   "execution_count": 13,
   "metadata": {},
   "outputs": [],
   "source": [
    "def net_P2(Y_bus_polar, V, delta):\n",
    "    P2 = (V[2] * V[0] * Y_bus_polar[2, 0][0] * np.cos(np.deg2rad(Y_bus_polar[2, 0][1] - delta[2] + delta[0])) +\n",
    "      V[2]**2 *  Y_bus_polar[2, 2][0] * np.cos(np.deg2rad(Y_bus_polar[2, 2][1])) +\n",
    "      V[2] * V[1] * Y_bus_polar[2, 1][0] * np.cos(np.deg2rad(Y_bus_polar[2, 1][1] - delta[2] + delta[1])))\n",
    "    return P2"
   ]
  },
  {
   "cell_type": "code",
   "execution_count": 14,
   "metadata": {},
   "outputs": [],
   "source": [
    "def net_Q1(Y_bus_polar, V, delta):\n",
    "    Q1 = (-V[1] * V[0] * Y_bus_polar[1, 0][0] * np.sin(np.deg2rad(Y_bus_polar[1, 0][1] - delta[1] + delta[0])) -\n",
    "          V[1]**2 *  Y_bus_polar[1, 1][0] * np.sin(np.deg2rad(Y_bus_polar[1, 1][1])) -\n",
    "          V[1] * V[2] * Y_bus_polar[1, 2][0] * np.sin(np.deg2rad(Y_bus_polar[1, 2][1] - delta[1] + delta[2])))\n",
    "    return Q1"
   ]
  },
  {
   "cell_type": "code",
   "execution_count": 15,
   "metadata": {},
   "outputs": [],
   "source": [
    "def calculate_jacobian(Y_bus_polar, V, delta):\n",
    "    # Initialize the J matrix with zeros\n",
    "    J = np.zeros((len(Y_bus_polar),len(Y_bus_polar)))\n",
    "\n",
    "    # Row 1\n",
    "    # dP_1/dd_1\n",
    "    J[0, 0] = V[1] * V[0] * Y_bus_polar[1, 0][0] * np.sin(np.deg2rad(Y_bus_polar[1, 0][1] - delta[1] + delta[0])) + V[1] * V[2] * Y_bus_polar[1, 2][0] * np.sin(np.deg2rad(Y_bus_polar[1, 2][1] - delta[1] + delta[2]))\n",
    "\n",
    "    # dP_1/dd_2\n",
    "    J[0, 1] = -V[1] * V[2] * Y_bus_polar[1, 2][0] * np.sin(np.deg2rad(Y_bus_polar[1, 2][1] - delta[1] + delta[2]))\n",
    "    \n",
    "    # dP_1/dv_1\n",
    "    J[0, 2] = V[0] * Y_bus_polar[1, 0][0] * np.cos(np.deg2rad(Y_bus_polar[1, 0][1] - delta[1] + delta[0])) + V[2] * Y_bus_polar[1, 2][0] * np.cos(np.deg2rad(Y_bus_polar[1, 2][1] - delta[1] + delta[2])) + 2 * V[1] * Y_bus_polar[1, 1][0] * np.cos(np.deg2rad(Y_bus_polar[1, 1][1]))\n",
    "\n",
    "    # Row 2\n",
    "    # dP_2/dd_1\n",
    "    J[1, 0] = -V[2] * V[1] * Y_bus_polar[2, 1][0] * np.sin(np.deg2rad(Y_bus_polar[2, 1][1] - delta[2] + delta[1]))\n",
    "    \n",
    "    # dP_2/dd_2\n",
    "    J[1, 1] = V[2] * V[0] * Y_bus_polar[2, 0][0] * np.sin(np.deg2rad(Y_bus_polar[2, 0][1] - delta[2] + delta[0])) + V[2] * V[1] * Y_bus_polar[2, 1][0] * np.sin(np.deg2rad(Y_bus_polar[2, 1][1] - delta[2] + delta[1]))\n",
    "    \n",
    "    # dP_2/dv_1\n",
    "    J[1, 2] = V[2] * Y_bus_polar[2, 1][0] * np.cos(np.deg2rad(Y_bus_polar[2, 1][1] - delta[2] + delta[1]))\n",
    "\n",
    "    # Row 3\n",
    "    # dQ_1/dd_1\n",
    "    J[2, 0] = V[1] * V[0] * Y_bus_polar[1, 0][0] * np.cos(np.deg2rad(Y_bus_polar[1, 0][1] - delta[1] + delta[0])) + V[1] * V[2] * Y_bus_polar[1, 2][0] * np.cos(np.deg2rad(Y_bus_polar[1, 2][1] - delta[1] + delta[2]))\n",
    "    \n",
    "    # dQ_1/dd_2\n",
    "    J[2, 1] = -V[1] * V[2] * Y_bus_polar[1, 2][0] * np.cos(np.deg2rad(Y_bus_polar[1, 2][1] - delta[1] + delta[2]))\n",
    "    \n",
    "    # dQ_1/dv_1\n",
    "    J[2,2] = -V[0] * Y_bus_polar[1, 0][0] * np.sin(np.deg2rad(Y_bus_polar[1, 0][1] - delta[1] + delta[0])) - V[2] * Y_bus_polar[1, 2][0] * np.sin(np.deg2rad(Y_bus_polar[1, 2][1] - delta[1] + delta[2])) - 2 * V[1] * Y_bus_polar[1, 1][0] * np.sin(np.deg2rad(Y_bus_polar[1, 1][1]))\n",
    "\n",
    "    return J"
   ]
  },
  {
   "cell_type": "code",
   "execution_count": 16,
   "metadata": {},
   "outputs": [
    {
     "name": "stdout",
     "output_type": "stream",
     "text": [
      "Iteration: 0\n",
      "Bus 1: 1.0123240883090363<-1.5960316369473049°\n",
      "Bus 2: 1.03<-0.19033074098204458°\n",
      "\n",
      "Iteration: 1\n",
      "Bus 1: 1.0118431002488621<-1.5887423960187383°\n",
      "Bus 2: 1.03<-0.20267032210983424°\n",
      "\n",
      "Iteration: 2\n",
      "Bus 1: 1.0118428186058819<-1.5887403592438232°\n",
      "Bus 2: 1.03<-0.2026774610374771°\n",
      "\n"
     ]
    }
   ],
   "source": [
    "# Initial guess for voltages X := [d_1, d_2, v_1]\n",
    "d_1 = 0\n",
    "d_2 = 0\n",
    "v_1 = 1\n",
    "\n",
    "# Define scheduled/expected power for variables: [P_sch_1, P_sch_2, Q_sch_1]\n",
    "scheduled_powers = [-2, 1.5, -0.5]\n",
    "\n",
    "# Lists to store the convergence data\n",
    "iterations = []\n",
    "d1_values = []\n",
    "d2_values = []\n",
    "v1_values = []\n",
    "power_mismatches = []\n",
    "\n",
    "for iteration in range(max_iterations):\n",
    "    # Voltage magnitudes and angles\n",
    "    V = [v_0, v_1, v_2]\n",
    "    delta = [d_0, d_1, d_2]\n",
    "    \n",
    "    # Calculate powers at iteration\n",
    "    p_1 = net_P1(Y_bus_polar, V, delta)\n",
    "    p_2 = net_P2(Y_bus_polar, V, delta)\n",
    "    q_1 = net_Q1(Y_bus_polar, V, delta)\n",
    "\n",
    "    # Calculate the difference of scheduled power to the current iteration\n",
    "    delta_vector = scheduled_powers - np.array([p_1, p_2, q_1])\n",
    "\n",
    "    # Store the current state\n",
    "    iterations.append(iteration)\n",
    "    d1_values.append(d_1)\n",
    "    d2_values.append(d_2)\n",
    "    v1_values.append(v_1)\n",
    "    power_mismatches.append(np.linalg.norm(delta_vector, np.inf))\n",
    "    \n",
    "    # Check for convergence\n",
    "    if np.linalg.norm(delta_vector, np.inf) < tolerance:\n",
    "        break\n",
    "\n",
    "    # Calculate the Jacobian\n",
    "    Jacobian = calculate_jacobian(Y_bus_polar, V, delta)\n",
    "    \n",
    "    # Extract variables\n",
    "    X = np.linalg.solve(Jacobian, delta_vector) # Units [rad, rad, p.u.]\n",
    "\n",
    "    # Update voltage mags and angles\n",
    "    d_1 += np.rad2deg(X[0])\n",
    "    d_2 += np.rad2deg(X[1])\n",
    "    v_1 += X[2]\n",
    "\n",
    "    print(f\"Iteration: {iteration}\\nBus 1: {v_1}<{d_1}°\\nBus 2: {v_2}<{d_2}°\\n\")"
   ]
  },
  {
   "cell_type": "code",
   "execution_count": 17,
   "metadata": {},
   "outputs": [
    {
     "data": {
      "image/png": "[encoded data removed]",
      "text/plain": [
       "<Figure size 640x480 with 2 Axes>"
      ]
     },
     "metadata": {},
     "output_type": "display_data"
    }
   ],
   "source": [
    "# Plot voltage angles\n",
    "plt.subplot(2, 1, 1)\n",
    "plt.plot(iterations, d1_values, label='Delta 1 (degrees)')\n",
    "plt.plot(iterations, d2_values, label='Delta 2 (degrees)')\n",
    "plt.xlabel('Iteration')\n",
    "plt.ylabel('Voltage Angle (degrees)')\n",
    "plt.title('Convergence of Voltage Angles')\n",
    "plt.legend()\n",
    "plt.grid(True)\n",
    "plt.xticks(np.arange(min(iterations), max(iterations)+1, 1))\n",
    "\n",
    "# Plot voltage magnitudes\n",
    "plt.subplot(2, 1, 2)\n",
    "plt.plot(iterations, v1_values, label='V1 (p.u.)')\n",
    "plt.xlabel('Iteration')\n",
    "plt.ylabel('Voltage Magnitude (p.u.)')\n",
    "plt.title('Convergence of Voltage Magnitudes')\n",
    "plt.legend()\n",
    "plt.grid(True)\n",
    "plt.xticks(np.arange(min(iterations), max(iterations)+1, 1))\n",
    "\n",
    "plt.tight_layout()\n",
    "plt.show()"
   ]
  },
  {
   "cell_type": "code",
   "execution_count": 18,
   "metadata": {},
   "outputs": [
    {
     "data": {
      "image/png": "[encoded data removed]",
      "text/plain": [
       "<Figure size 600x400 with 1 Axes>"
      ]
     },
     "metadata": {},
     "output_type": "display_data"
    }
   ],
   "source": [
    "# Plot power mismatches\n",
    "plt.figure(figsize=(6, 4))\n",
    "plt.plot(iterations, power_mismatches, label='Power Mismatch (p.u.)')\n",
    "plt.axhline(y=tolerance, color='r', linestyle='--', label='Tolerance')\n",
    "plt.xlabel('Iteration')\n",
    "plt.ylabel('Mismatch (p.u.)')\n",
    "plt.title('Convergence of Power Mismatches (P_sch - P_k)')\n",
    "plt.yscale('log')\n",
    "plt.legend()\n",
    "plt.grid(True)\n",
    "plt.xticks(np.arange(min(iterations), max(iterations)+1, 1))\n",
    "plt.show()"
   ]
  },
  {
   "cell_type": "markdown",
   "metadata": {},
   "source": [
    "# Simple 3-node system using pandapower"
   ]
  },
  {
   "cell_type": "markdown",
   "metadata": {},
   "source": [
    "Using the exact same system as before, but this time using the pandapower package to implement. The results should be the same."
   ]
  },
  {
   "cell_type": "code",
   "execution_count": 80,
   "metadata": {},
   "outputs": [],
   "source": [
    "# Create an empty network\n",
    "net = pp.create_empty_network()"
   ]
  },
  {
   "cell_type": "code",
   "execution_count": 81,
   "metadata": {},
   "outputs": [],
   "source": [
    "# Add buses with geodata (x, y coordinates), this is arbitrary for now\n",
    "bus0 = pp.create_bus(net, vn_kv=100, name=\"Bus 0 (Slack)\", geodata=(0, 1))\n",
    "bus1 = pp.create_bus(net, vn_kv=100, name=\"Bus 1 (Load, PQ)\", geodata=(1, 1))\n",
    "bus2 = pp.create_bus(net, vn_kv=100, name=\"Bus 2 (Generator, PV)\", geodata=(0.5, 0))"
   ]
  },
  {
   "cell_type": "code",
   "execution_count": 82,
   "metadata": {},
   "outputs": [
    {
     "data": {
      "text/plain": [
       "0"
      ]
     },
     "execution_count": 82,
     "metadata": {},
     "output_type": "execute_result"
    }
   ],
   "source": [
    "# Add a slack bus (reference bus) at bus 0\n",
    "pp.create_ext_grid(net, bus=bus0, vm_pu=1.02, name=\"Slack Bus\")\n",
    "\n",
    "# Add loads at bus 1\n",
    "pp.create_load(net, bus=bus1, p_mw=200, q_mvar=50, name=\"Load 1\")\n",
    "\n",
    "# Add a generator at bus 2\n",
    "pp.create_gen(net, bus=bus2, p_mw=150, vm_pu=1.03, name=\"Generator\")"
   ]
  },
  {
   "cell_type": "code",
   "execution_count": 83,
   "metadata": {},
   "outputs": [
    {
     "data": {
      "text/plain": [
       "2"
      ]
     },
     "execution_count": 83,
     "metadata": {},
     "output_type": "execute_result"
    }
   ],
   "source": [
    "# Add lines between buses\n",
    "pp.create_line_from_parameters(net, from_bus=bus0, to_bus=bus1, length_km=1, r_ohm_per_km=0.02, x_ohm_per_km=0.06, c_nf_per_km=0, max_i_ka=0.4)\n",
    "pp.create_line_from_parameters(net, from_bus=bus1, to_bus=bus2, length_km=1, r_ohm_per_km=0.0055, x_ohm_per_km=0.0183, c_nf_per_km=0, max_i_ka=0.4)\n",
    "pp.create_line_from_parameters(net, from_bus=bus0, to_bus=bus2, length_km=1, r_ohm_per_km=0.0059, x_ohm_per_km=0.0235, c_nf_per_km=0, max_i_ka=0.4)"
   ]
  },
  {
   "cell_type": "code",
   "execution_count": 84,
   "metadata": {},
   "outputs": [],
   "source": [
    "# Run the power flow\n",
    "pp.runpp(net, algorithm=\"nr\", max_iteration=10, tolerance_mva=1e-06)"
   ]
  },
  {
   "cell_type": "code",
   "execution_count": 85,
   "metadata": {},
   "outputs": [
    {
     "name": "stdout",
     "output_type": "stream",
     "text": [
      "Bus voltages (magnitude and angle):\n",
      "      vm_pu  va_degree\n",
      "0  1.020000   0.000000\n",
      "1  1.027513  -0.133130\n",
      "2  1.030000  -0.150857\n",
      "\n",
      "Line loading:\n",
      "   loading_percent\n",
      "0      1798.448747\n",
      "1      1894.022972\n",
      "2      6170.268864\n",
      "\n",
      "Generator outputs:\n",
      "    p_mw       q_mvar\n",
      "0  150.0  5735.813698\n",
      "\n",
      "Load consumption:\n",
      "    p_mw  q_mvar\n",
      "0  200.0    50.0\n"
     ]
    }
   ],
   "source": [
    "# Print results\n",
    "print(\"Bus voltages (magnitude and angle):\")\n",
    "print(net.res_bus[['vm_pu', 'va_degree']])\n",
    "print(\"\\nLine loading:\")\n",
    "print(net.res_line[['loading_percent']])\n",
    "print(\"\\nGenerator outputs:\")\n",
    "print(net.res_gen[['p_mw', 'q_mvar']])\n",
    "print(\"\\nLoad consumption:\")\n",
    "print(net.res_load[['p_mw', 'q_mvar']])"
   ]
  },
  {
   "cell_type": "code",
   "execution_count": 47,
   "metadata": {},
   "outputs": [
    {
     "data": {
      "image/png": "[encoded data removed]",
      "text/plain": [
       "<Figure size 1000x800 with 1 Axes>"
      ]
     },
     "metadata": {},
     "output_type": "display_data"
    },
    {
     "data": {
      "text/plain": [
       "<Axes: >"
      ]
     },
     "execution_count": 47,
     "metadata": {},
     "output_type": "execute_result"
    }
   ],
   "source": [
    "# Plot the network\n",
    "plot.simple_plot(net)"
   ]
  },
  {
   "cell_type": "markdown",
   "metadata": {},
   "source": [
    "Potential causes for slight variance in result from by-hand to pandapower methood:\n",
    "- Unable to select the initial guess in pandapower, maybe this impacts the path to convergence?\n",
    "- pandapower uses a slightly different modelling method it seems, maybe this changes the result slightly?\n",
    "https://ieeexplore.ieee.org/document/8344496#:~:text=Instead%20of%20a%20BBM%2C%20pandapower%20uses%20an%20element%2Dbased%20model%20(EBM)%20to%20model%20electric%20grids."
   ]
  },
  {
   "cell_type": "markdown",
   "metadata": {},
   "source": [
    "# Optimal Power Flow (OPF)"
   ]
  },
  {
   "cell_type": "markdown",
   "metadata": {},
   "source": [
    "\"The optimal power flow (OPF) problem seeks to control the generation/consumption of generators/loads to optimize certain objectives such as to minimize the generation cost or power loss in the network. It is becoming increasingly important for distribution networks due to the emerging distributed generation and controllable loads.\"\n",
    "https://scholar.harvard.edu/files/nali/files/opf_cdc2013.pdf"
   ]
  },
  {
   "cell_type": "markdown",
   "metadata": {},
   "source": [
    "First we will look at solving a \"static OPF\" the objective is to optimize the power system operation at a single time point or snapshot in time by hand. Then repeat this with software to compare results."
   ]
  },
  {
   "cell_type": "markdown",
   "metadata": {},
   "source": [
    "## OPF \"by-hand\""
   ]
  },
  {
   "cell_type": "code",
   "execution_count": null,
   "metadata": {},
   "outputs": [],
   "source": []
  }
 ],
 "metadata": {
  "kernelspec": {
   "display_name": "Python 3 (ipykernel)",
   "language": "python",
   "name": "python3"
  },
  "language_info": {
   "codemirror_mode": {
    "name": "ipython",
    "version": 3
   },
   "file_extension": ".py",
   "mimetype": "text/x-python",
   "name": "python",
   "nbconvert_exporter": "python",
   "pygments_lexer": "ipython3",
   "version": "3.9.19"
  }
 },
 "nbformat": 4,
 "nbformat_minor": 4
}
